{
 "cells": [
  {
   "cell_type": "markdown",
   "metadata": {},
   "source": [
    "## Random Forest - Credit Default Prediction"
   ]
  },
  {
   "cell_type": "markdown",
   "metadata": {},
   "source": [
    "In this lab, we will build a random forest model to predict whether a given customer defaults or not. Credit default is one of the most important problems in the banking and risk analytics industry. There are various attributes which can be used to predict default, such as demographic data (age, income, employment status, etc.), (credit) behavioural data (past loans, payment, number of times a credit payment has been delayed by the customer etc.).\n",
    "\n",
    "We'll start the process with data cleaning and preparation and then tune the model to find optimal hyperparameters."
   ]
  },
  {
   "cell_type": "markdown",
   "metadata": {},
   "source": [
    "<hr>"
   ]
  },
  {
   "cell_type": "markdown",
   "metadata": {},
   "source": [
    "### Data Understanding and Cleaning"
   ]
  },
  {
   "cell_type": "code",
   "execution_count": 1,
   "metadata": {},
   "outputs": [],
   "source": [
    "# Importing the required libraries\n",
    "import pandas as pd\n",
    "import numpy as np\n",
    "import matplotlib.pyplot as plt\n",
    "import seaborn as sns\n",
    "%matplotlib inline\n",
    "\n",
    "# To ignore warnings\n",
    "import warnings\n",
    "warnings.filterwarnings(\"ignore\")"
   ]
  },
  {
   "cell_type": "code",
   "execution_count": 3,
   "metadata": {},
   "outputs": [
    {
     "data": {
      "text/html": [
       "<div>\n",
       "<style scoped>\n",
       "    .dataframe tbody tr th:only-of-type {\n",
       "        vertical-align: middle;\n",
       "    }\n",
       "\n",
       "    .dataframe tbody tr th {\n",
       "        vertical-align: top;\n",
       "    }\n",
       "\n",
       "    .dataframe thead th {\n",
       "        text-align: right;\n",
       "    }\n",
       "</style>\n",
       "<table border=\"1\" class=\"dataframe\">\n",
       "  <thead>\n",
       "    <tr style=\"text-align: right;\">\n",
       "      <th></th>\n",
       "      <th>ID</th>\n",
       "      <th>LIMIT_BAL</th>\n",
       "      <th>SEX</th>\n",
       "      <th>EDUCATION</th>\n",
       "      <th>MARRIAGE</th>\n",
       "      <th>AGE</th>\n",
       "      <th>PAY_0</th>\n",
       "      <th>PAY_2</th>\n",
       "      <th>PAY_3</th>\n",
       "      <th>PAY_4</th>\n",
       "      <th>...</th>\n",
       "      <th>BILL_AMT4</th>\n",
       "      <th>BILL_AMT5</th>\n",
       "      <th>BILL_AMT6</th>\n",
       "      <th>PAY_AMT1</th>\n",
       "      <th>PAY_AMT2</th>\n",
       "      <th>PAY_AMT3</th>\n",
       "      <th>PAY_AMT4</th>\n",
       "      <th>PAY_AMT5</th>\n",
       "      <th>PAY_AMT6</th>\n",
       "      <th>defaulted</th>\n",
       "    </tr>\n",
       "  </thead>\n",
       "  <tbody>\n",
       "    <tr>\n",
       "      <th>0</th>\n",
       "      <td>1</td>\n",
       "      <td>20000</td>\n",
       "      <td>2</td>\n",
       "      <td>2</td>\n",
       "      <td>1</td>\n",
       "      <td>24</td>\n",
       "      <td>2</td>\n",
       "      <td>2</td>\n",
       "      <td>-1</td>\n",
       "      <td>-1</td>\n",
       "      <td>...</td>\n",
       "      <td>0</td>\n",
       "      <td>0</td>\n",
       "      <td>0</td>\n",
       "      <td>0</td>\n",
       "      <td>689</td>\n",
       "      <td>0</td>\n",
       "      <td>0</td>\n",
       "      <td>0</td>\n",
       "      <td>0</td>\n",
       "      <td>1</td>\n",
       "    </tr>\n",
       "    <tr>\n",
       "      <th>1</th>\n",
       "      <td>2</td>\n",
       "      <td>120000</td>\n",
       "      <td>2</td>\n",
       "      <td>2</td>\n",
       "      <td>2</td>\n",
       "      <td>26</td>\n",
       "      <td>-1</td>\n",
       "      <td>2</td>\n",
       "      <td>0</td>\n",
       "      <td>0</td>\n",
       "      <td>...</td>\n",
       "      <td>3272</td>\n",
       "      <td>3455</td>\n",
       "      <td>3261</td>\n",
       "      <td>0</td>\n",
       "      <td>1000</td>\n",
       "      <td>1000</td>\n",
       "      <td>1000</td>\n",
       "      <td>0</td>\n",
       "      <td>2000</td>\n",
       "      <td>1</td>\n",
       "    </tr>\n",
       "    <tr>\n",
       "      <th>2</th>\n",
       "      <td>3</td>\n",
       "      <td>90000</td>\n",
       "      <td>2</td>\n",
       "      <td>2</td>\n",
       "      <td>2</td>\n",
       "      <td>34</td>\n",
       "      <td>0</td>\n",
       "      <td>0</td>\n",
       "      <td>0</td>\n",
       "      <td>0</td>\n",
       "      <td>...</td>\n",
       "      <td>14331</td>\n",
       "      <td>14948</td>\n",
       "      <td>15549</td>\n",
       "      <td>1518</td>\n",
       "      <td>1500</td>\n",
       "      <td>1000</td>\n",
       "      <td>1000</td>\n",
       "      <td>1000</td>\n",
       "      <td>5000</td>\n",
       "      <td>0</td>\n",
       "    </tr>\n",
       "    <tr>\n",
       "      <th>3</th>\n",
       "      <td>4</td>\n",
       "      <td>50000</td>\n",
       "      <td>2</td>\n",
       "      <td>2</td>\n",
       "      <td>1</td>\n",
       "      <td>37</td>\n",
       "      <td>0</td>\n",
       "      <td>0</td>\n",
       "      <td>0</td>\n",
       "      <td>0</td>\n",
       "      <td>...</td>\n",
       "      <td>28314</td>\n",
       "      <td>28959</td>\n",
       "      <td>29547</td>\n",
       "      <td>2000</td>\n",
       "      <td>2019</td>\n",
       "      <td>1200</td>\n",
       "      <td>1100</td>\n",
       "      <td>1069</td>\n",
       "      <td>1000</td>\n",
       "      <td>0</td>\n",
       "    </tr>\n",
       "    <tr>\n",
       "      <th>4</th>\n",
       "      <td>5</td>\n",
       "      <td>50000</td>\n",
       "      <td>1</td>\n",
       "      <td>2</td>\n",
       "      <td>1</td>\n",
       "      <td>57</td>\n",
       "      <td>-1</td>\n",
       "      <td>0</td>\n",
       "      <td>-1</td>\n",
       "      <td>0</td>\n",
       "      <td>...</td>\n",
       "      <td>20940</td>\n",
       "      <td>19146</td>\n",
       "      <td>19131</td>\n",
       "      <td>2000</td>\n",
       "      <td>36681</td>\n",
       "      <td>10000</td>\n",
       "      <td>9000</td>\n",
       "      <td>689</td>\n",
       "      <td>679</td>\n",
       "      <td>0</td>\n",
       "    </tr>\n",
       "  </tbody>\n",
       "</table>\n",
       "<p>5 rows × 25 columns</p>\n",
       "</div>"
      ],
      "text/plain": [
       "   ID  LIMIT_BAL  SEX  EDUCATION  MARRIAGE  AGE  PAY_0  PAY_2  PAY_3  PAY_4  \\\n",
       "0   1      20000    2          2         1   24      2      2     -1     -1   \n",
       "1   2     120000    2          2         2   26     -1      2      0      0   \n",
       "2   3      90000    2          2         2   34      0      0      0      0   \n",
       "3   4      50000    2          2         1   37      0      0      0      0   \n",
       "4   5      50000    1          2         1   57     -1      0     -1      0   \n",
       "\n",
       "   ...  BILL_AMT4  BILL_AMT5  BILL_AMT6  PAY_AMT1  PAY_AMT2  PAY_AMT3  \\\n",
       "0  ...          0          0          0         0       689         0   \n",
       "1  ...       3272       3455       3261         0      1000      1000   \n",
       "2  ...      14331      14948      15549      1518      1500      1000   \n",
       "3  ...      28314      28959      29547      2000      2019      1200   \n",
       "4  ...      20940      19146      19131      2000     36681     10000   \n",
       "\n",
       "   PAY_AMT4  PAY_AMT5  PAY_AMT6  defaulted  \n",
       "0         0         0         0          1  \n",
       "1      1000         0      2000          1  \n",
       "2      1000      1000      5000          0  \n",
       "3      1100      1069      1000          0  \n",
       "4      9000       689       679          0  \n",
       "\n",
       "[5 rows x 25 columns]"
      ]
     },
     "execution_count": 3,
     "metadata": {},
     "output_type": "execute_result"
    }
   ],
   "source": [
    "# Reading the csv file and putting it into 'df' object.\n",
    "df = pd.read_csv('credit-card-default.csv')\n",
    "df.head()"
   ]
  },
  {
   "cell_type": "code",
   "execution_count": 4,
   "metadata": {
    "scrolled": true
   },
   "outputs": [
    {
     "name": "stdout",
     "output_type": "stream",
     "text": [
      "<class 'pandas.core.frame.DataFrame'>\n",
      "RangeIndex: 30000 entries, 0 to 29999\n",
      "Data columns (total 25 columns):\n",
      "ID           30000 non-null int64\n",
      "LIMIT_BAL    30000 non-null int64\n",
      "SEX          30000 non-null int64\n",
      "EDUCATION    30000 non-null int64\n",
      "MARRIAGE     30000 non-null int64\n",
      "AGE          30000 non-null int64\n",
      "PAY_0        30000 non-null int64\n",
      "PAY_2        30000 non-null int64\n",
      "PAY_3        30000 non-null int64\n",
      "PAY_4        30000 non-null int64\n",
      "PAY_5        30000 non-null int64\n",
      "PAY_6        30000 non-null int64\n",
      "BILL_AMT1    30000 non-null int64\n",
      "BILL_AMT2    30000 non-null int64\n",
      "BILL_AMT3    30000 non-null int64\n",
      "BILL_AMT4    30000 non-null int64\n",
      "BILL_AMT5    30000 non-null int64\n",
      "BILL_AMT6    30000 non-null int64\n",
      "PAY_AMT1     30000 non-null int64\n",
      "PAY_AMT2     30000 non-null int64\n",
      "PAY_AMT3     30000 non-null int64\n",
      "PAY_AMT4     30000 non-null int64\n",
      "PAY_AMT5     30000 non-null int64\n",
      "PAY_AMT6     30000 non-null int64\n",
      "defaulted    30000 non-null int64\n",
      "dtypes: int64(25)\n",
      "memory usage: 5.7 MB\n"
     ]
    }
   ],
   "source": [
    "# Let's understand the type of columns\n",
    "df.info()"
   ]
  },
  {
   "cell_type": "markdown",
   "metadata": {},
   "source": [
    "In this case, we know that there are no major data quality issues, so we'll go ahead and build the model."
   ]
  },
  {
   "cell_type": "markdown",
   "metadata": {},
   "source": [
    "<hr>"
   ]
  },
  {
   "cell_type": "markdown",
   "metadata": {},
   "source": [
    "### Data Preparation and Model Building"
   ]
  },
  {
   "cell_type": "code",
   "execution_count": 5,
   "metadata": {},
   "outputs": [],
   "source": [
    "# Importing test_train_split from sklearn library\n",
    "from sklearn.model_selection import train_test_split"
   ]
  },
  {
   "cell_type": "code",
   "execution_count": 6,
   "metadata": {},
   "outputs": [],
   "source": [
    "# Putting feature variable to X\n",
    "X = df.drop('defaulted',axis=1)\n",
    "\n",
    "# Putting response variable to y\n",
    "y = df['defaulted']\n",
    "\n",
    "# Splitting the data into train and test\n",
    "X_train, X_test, y_train, y_test = train_test_split(X, y, test_size=0.30, random_state=101)"
   ]
  },
  {
   "cell_type": "markdown",
   "metadata": {},
   "source": [
    "\n",
    "\n",
    "#### Default Hyperparameters\n",
    "Let's first fit a random forest model with default hyperparameters."
   ]
  },
  {
   "cell_type": "code",
   "execution_count": 7,
   "metadata": {},
   "outputs": [],
   "source": [
    "# Importing random forest classifier from sklearn library\n",
    "from sklearn.ensemble import RandomForestClassifier\n",
    "\n",
    "# Running the random forest with default parameters.\n",
    "rfc = RandomForestClassifier()"
   ]
  },
  {
   "cell_type": "code",
   "execution_count": 8,
   "metadata": {},
   "outputs": [
    {
     "data": {
      "text/plain": [
       "RandomForestClassifier()"
      ]
     },
     "execution_count": 8,
     "metadata": {},
     "output_type": "execute_result"
    }
   ],
   "source": [
    "# fit\n",
    "rfc.fit(X_train,y_train)"
   ]
  },
  {
   "cell_type": "code",
   "execution_count": 9,
   "metadata": {},
   "outputs": [],
   "source": [
    "# Making predictions\n",
    "predictions = rfc.predict(X_test)"
   ]
  },
  {
   "cell_type": "code",
   "execution_count": 10,
   "metadata": {},
   "outputs": [],
   "source": [
    "# Importing classification report and confusion matrix from sklearn metrics\n",
    "from sklearn.metrics import classification_report,confusion_matrix, accuracy_score"
   ]
  },
  {
   "cell_type": "code",
   "execution_count": 11,
   "metadata": {},
   "outputs": [
    {
     "name": "stdout",
     "output_type": "stream",
     "text": [
      "              precision    recall  f1-score   support\n",
      "\n",
      "           0       0.84      0.95      0.89      7058\n",
      "           1       0.64      0.36      0.46      1942\n",
      "\n",
      "    accuracy                           0.82      9000\n",
      "   macro avg       0.74      0.65      0.67      9000\n",
      "weighted avg       0.80      0.82      0.80      9000\n",
      "\n"
     ]
    }
   ],
   "source": [
    "# Let's check the report of our default model\n",
    "print(classification_report(y_test,predictions))"
   ]
  },
  {
   "cell_type": "code",
   "execution_count": 12,
   "metadata": {},
   "outputs": [
    {
     "name": "stdout",
     "output_type": "stream",
     "text": [
      "[[6671  387]\n",
      " [1252  690]]\n"
     ]
    }
   ],
   "source": [
    "# Printing confusion matrix\n",
    "print(confusion_matrix(y_test,predictions))"
   ]
  },
  {
   "cell_type": "code",
   "execution_count": 13,
   "metadata": {},
   "outputs": [
    {
     "name": "stdout",
     "output_type": "stream",
     "text": [
      "0.8178888888888889\n"
     ]
    }
   ],
   "source": [
    "print(accuracy_score(y_test,predictions))"
   ]
  },
  {
   "cell_type": "markdown",
   "metadata": {},
   "source": [
    "So far so good, let's now look at the list of hyperparameters which we can tune to improve model performance."
   ]
  },
  {
   "cell_type": "markdown",
   "metadata": {
    "collapsed": true
   },
   "source": [
    "<hr>"
   ]
  },
  {
   "cell_type": "markdown",
   "metadata": {},
   "source": [
    "### Hyperparameter Tuning"
   ]
  },
  {
   "cell_type": "markdown",
   "metadata": {},
   "source": [
    "The following hyperparameters are present in a random forest classifier. Note that most of these hypereparameters are actually of the decision trees that are in the forest.\n",
    "\n",
    "\n",
    "- **n_estimators**: integer, optional (default=10): The number of trees in the forest.\n",
    "- **criterion**: string, optional (default=”gini”)The function to measure the quality of a split. Supported criteria are “gini” for the Gini impurity and “entropy” for the information gain. Note: this parameter is tree-specific.\n",
    "- **max_features** : int, float, string or None, optional (default=”auto”)The number of features to consider when looking for the best split:\n",
    "    - If int, then consider max_features features at each split.\n",
    "    - If float, then max_features is a percentage and int(max_features * n_features) features are considered at each split.\n",
    "    - If “auto”, then max_features=sqrt(n_features).\n",
    "    - If “sqrt”, then max_features=sqrt(n_features) (same as “auto”).\n",
    "    - If “log2”, then max_features=log2(n_features).\n",
    "    - If None, then max_features=n_features.\n",
    "    - Note: the search for a split does not stop until at least one valid partition of the node samples is found, even if it requires to effectively inspect more than max_features features.\n",
    "- **max_depth** : integer or None, optional (default=None)The maximum depth of the tree. If None, then nodes are expanded until all leaves are pure or until all leaves contain less than min_samples_split samples.\n",
    "- **min_samples_split** : int, float, optional (default=2)The minimum number of samples required to split an internal node:**\n",
    "    - **If int, then consider min_samples_split as the minimum number.\n",
    "    - **If float, then min_samples_split is a percentage and ceil(min_samples_split, n_samples) are the minimum number of samples for each split.\n",
    "- **min_samples_leaf** : int, float, optional (default=1)The minimum number of samples required to be at a leaf node:**\n",
    "    - **If int, then consider min_samples_leaf as the minimum number.**\n",
    "    - **If float, then min_samples_leaf is a percentage and ceil(min_samples_leaf * n_samples) are the minimum number of samples for each node.**\n",
    "- **min_weight_fraction_leaf** : float, optional (default=0.)The minimum weighted fraction of the sum total of weights (of all the input samples) required to be at a leaf node. Samples have equal weight when sample_weight is not provided.\n",
    "- **max_leaf_nodes** : int or None, optional (default=None)Grow trees with max_leaf_nodes in best-first fashion. Best nodes are defined as relative reduction in impurity. If None then unlimited number of leaf nodes.\n",
    "- **min_impurity_split** : float,Threshold for early stopping in tree growth. A node will split if its impurity is above the threshold, otherwise it is a leaf.\n"
   ]
  },
  {
   "cell_type": "markdown",
   "metadata": {},
   "source": [
    "<hr>"
   ]
  },
  {
   "cell_type": "markdown",
   "metadata": {},
   "source": [
    "### Tuning max_depth"
   ]
  },
  {
   "cell_type": "markdown",
   "metadata": {},
   "source": [
    "Let's try to find the optimum values for ```max_depth``` and understand how the value of max_depth impacts the overall accuracy of the ensemble.\n"
   ]
  },
  {
   "cell_type": "code",
   "execution_count": 17,
   "metadata": {},
   "outputs": [
    {
     "data": {
      "text/plain": [
       "GridSearchCV(cv=5, estimator=RandomForestClassifier(),\n",
       "             param_grid={'max_depth': range(2, 20, 5)}, return_train_score=True,\n",
       "             scoring='accuracy')"
      ]
     },
     "execution_count": 17,
     "metadata": {},
     "output_type": "execute_result"
    }
   ],
   "source": [
    "# GridSearchCV to find optimal n_estimators\n",
    "from sklearn.model_selection import KFold\n",
    "from sklearn.model_selection import GridSearchCV\n",
    "\n",
    "\n",
    "# specify number of folds for k-fold CV\n",
    "n_folds = 5\n",
    "\n",
    "# parameters to build the model on\n",
    "parameters = {'max_depth': range(2, 20, 5)}\n",
    "\n",
    "# instantiate the model\n",
    "rf = RandomForestClassifier()\n",
    "\n",
    "\n",
    "# fit tree on training data\n",
    "rf = GridSearchCV(rf, parameters, \n",
    "                    cv=n_folds, \n",
    "                   scoring=\"accuracy\",\n",
    "                   return_train_score=True)\n",
    "rf.fit(X_train, y_train)"
   ]
  },
  {
   "cell_type": "code",
   "execution_count": 19,
   "metadata": {},
   "outputs": [
    {
     "data": {
      "text/html": [
       "<div>\n",
       "<style scoped>\n",
       "    .dataframe tbody tr th:only-of-type {\n",
       "        vertical-align: middle;\n",
       "    }\n",
       "\n",
       "    .dataframe tbody tr th {\n",
       "        vertical-align: top;\n",
       "    }\n",
       "\n",
       "    .dataframe thead th {\n",
       "        text-align: right;\n",
       "    }\n",
       "</style>\n",
       "<table border=\"1\" class=\"dataframe\">\n",
       "  <thead>\n",
       "    <tr style=\"text-align: right;\">\n",
       "      <th></th>\n",
       "      <th>mean_fit_time</th>\n",
       "      <th>std_fit_time</th>\n",
       "      <th>mean_score_time</th>\n",
       "      <th>std_score_time</th>\n",
       "      <th>param_max_depth</th>\n",
       "      <th>params</th>\n",
       "      <th>split0_test_score</th>\n",
       "      <th>split1_test_score</th>\n",
       "      <th>split2_test_score</th>\n",
       "      <th>split3_test_score</th>\n",
       "      <th>...</th>\n",
       "      <th>mean_test_score</th>\n",
       "      <th>std_test_score</th>\n",
       "      <th>rank_test_score</th>\n",
       "      <th>split0_train_score</th>\n",
       "      <th>split1_train_score</th>\n",
       "      <th>split2_train_score</th>\n",
       "      <th>split3_train_score</th>\n",
       "      <th>split4_train_score</th>\n",
       "      <th>mean_train_score</th>\n",
       "      <th>std_train_score</th>\n",
       "    </tr>\n",
       "  </thead>\n",
       "  <tbody>\n",
       "    <tr>\n",
       "      <th>0</th>\n",
       "      <td>0.829437</td>\n",
       "      <td>0.013469</td>\n",
       "      <td>0.042598</td>\n",
       "      <td>0.006103</td>\n",
       "      <td>2</td>\n",
       "      <td>{'max_depth': 2}</td>\n",
       "      <td>0.800000</td>\n",
       "      <td>0.801905</td>\n",
       "      <td>0.799524</td>\n",
       "      <td>0.792381</td>\n",
       "      <td>...</td>\n",
       "      <td>0.798667</td>\n",
       "      <td>0.003263</td>\n",
       "      <td>4</td>\n",
       "      <td>0.798929</td>\n",
       "      <td>0.799345</td>\n",
       "      <td>0.797440</td>\n",
       "      <td>0.799048</td>\n",
       "      <td>0.801667</td>\n",
       "      <td>0.799286</td>\n",
       "      <td>0.001361</td>\n",
       "    </tr>\n",
       "    <tr>\n",
       "      <th>1</th>\n",
       "      <td>2.105210</td>\n",
       "      <td>0.030592</td>\n",
       "      <td>0.057984</td>\n",
       "      <td>0.009184</td>\n",
       "      <td>7</td>\n",
       "      <td>{'max_depth': 7}</td>\n",
       "      <td>0.815000</td>\n",
       "      <td>0.820476</td>\n",
       "      <td>0.818095</td>\n",
       "      <td>0.815952</td>\n",
       "      <td>...</td>\n",
       "      <td>0.817381</td>\n",
       "      <td>0.001887</td>\n",
       "      <td>1</td>\n",
       "      <td>0.831786</td>\n",
       "      <td>0.831905</td>\n",
       "      <td>0.831012</td>\n",
       "      <td>0.831607</td>\n",
       "      <td>0.833333</td>\n",
       "      <td>0.831929</td>\n",
       "      <td>0.000767</td>\n",
       "    </tr>\n",
       "    <tr>\n",
       "      <th>2</th>\n",
       "      <td>3.232344</td>\n",
       "      <td>0.116549</td>\n",
       "      <td>0.067096</td>\n",
       "      <td>0.003046</td>\n",
       "      <td>12</td>\n",
       "      <td>{'max_depth': 12}</td>\n",
       "      <td>0.814762</td>\n",
       "      <td>0.819286</td>\n",
       "      <td>0.817381</td>\n",
       "      <td>0.812143</td>\n",
       "      <td>...</td>\n",
       "      <td>0.816095</td>\n",
       "      <td>0.002445</td>\n",
       "      <td>3</td>\n",
       "      <td>0.884464</td>\n",
       "      <td>0.885298</td>\n",
       "      <td>0.885952</td>\n",
       "      <td>0.887262</td>\n",
       "      <td>0.885060</td>\n",
       "      <td>0.885607</td>\n",
       "      <td>0.000955</td>\n",
       "    </tr>\n",
       "    <tr>\n",
       "      <th>3</th>\n",
       "      <td>4.261919</td>\n",
       "      <td>0.138619</td>\n",
       "      <td>0.091701</td>\n",
       "      <td>0.008260</td>\n",
       "      <td>17</td>\n",
       "      <td>{'max_depth': 17}</td>\n",
       "      <td>0.817619</td>\n",
       "      <td>0.814524</td>\n",
       "      <td>0.821190</td>\n",
       "      <td>0.810714</td>\n",
       "      <td>...</td>\n",
       "      <td>0.816619</td>\n",
       "      <td>0.003662</td>\n",
       "      <td>2</td>\n",
       "      <td>0.927976</td>\n",
       "      <td>0.928929</td>\n",
       "      <td>0.930298</td>\n",
       "      <td>0.931131</td>\n",
       "      <td>0.928393</td>\n",
       "      <td>0.929345</td>\n",
       "      <td>0.001187</td>\n",
       "    </tr>\n",
       "  </tbody>\n",
       "</table>\n",
       "<p>4 rows × 21 columns</p>\n",
       "</div>"
      ],
      "text/plain": [
       "   mean_fit_time  std_fit_time  mean_score_time  std_score_time  \\\n",
       "0       0.829437      0.013469         0.042598        0.006103   \n",
       "1       2.105210      0.030592         0.057984        0.009184   \n",
       "2       3.232344      0.116549         0.067096        0.003046   \n",
       "3       4.261919      0.138619         0.091701        0.008260   \n",
       "\n",
       "  param_max_depth             params  split0_test_score  split1_test_score  \\\n",
       "0               2   {'max_depth': 2}           0.800000           0.801905   \n",
       "1               7   {'max_depth': 7}           0.815000           0.820476   \n",
       "2              12  {'max_depth': 12}           0.814762           0.819286   \n",
       "3              17  {'max_depth': 17}           0.817619           0.814524   \n",
       "\n",
       "   split2_test_score  split3_test_score  ...  mean_test_score  std_test_score  \\\n",
       "0           0.799524           0.792381  ...         0.798667        0.003263   \n",
       "1           0.818095           0.815952  ...         0.817381        0.001887   \n",
       "2           0.817381           0.812143  ...         0.816095        0.002445   \n",
       "3           0.821190           0.810714  ...         0.816619        0.003662   \n",
       "\n",
       "   rank_test_score  split0_train_score  split1_train_score  \\\n",
       "0                4            0.798929            0.799345   \n",
       "1                1            0.831786            0.831905   \n",
       "2                3            0.884464            0.885298   \n",
       "3                2            0.927976            0.928929   \n",
       "\n",
       "   split2_train_score  split3_train_score  split4_train_score  \\\n",
       "0            0.797440            0.799048            0.801667   \n",
       "1            0.831012            0.831607            0.833333   \n",
       "2            0.885952            0.887262            0.885060   \n",
       "3            0.930298            0.931131            0.928393   \n",
       "\n",
       "   mean_train_score  std_train_score  \n",
       "0          0.799286         0.001361  \n",
       "1          0.831929         0.000767  \n",
       "2          0.885607         0.000955  \n",
       "3          0.929345         0.001187  \n",
       "\n",
       "[4 rows x 21 columns]"
      ]
     },
     "execution_count": 19,
     "metadata": {},
     "output_type": "execute_result"
    }
   ],
   "source": [
    "# scores of GridSearch CV\n",
    "scores = rf.cv_results_\n",
    "pd.DataFrame(scores).head()"
   ]
  },
  {
   "cell_type": "code",
   "execution_count": 20,
   "metadata": {},
   "outputs": [
    {
     "data": {
      "image/png": "[encoded data removed]",
      "text/plain": [
       "<Figure size 432x288 with 1 Axes>"
      ]
     },
     "metadata": {
      "needs_background": "light"
     },
     "output_type": "display_data"
    }
   ],
   "source": [
    "# plotting accuracies with max_depth\n",
    "plt.figure()\n",
    "plt.plot(scores[\"param_max_depth\"], \n",
    "         scores[\"mean_train_score\"], \n",
    "         label=\"training accuracy\")\n",
    "plt.plot(scores[\"param_max_depth\"], \n",
    "         scores[\"mean_test_score\"], \n",
    "         label=\"test accuracy\")\n",
    "plt.xlabel(\"max_depth\")\n",
    "plt.ylabel(\"Accuracy\")\n",
    "plt.legend()\n",
    "plt.show()\n"
   ]
  },
  {
   "cell_type": "markdown",
   "metadata": {},
   "source": [
    "You can see that as we increase the value of max_depth, both train and test scores increase till a point, but after that test score starts to decrease. The ensemble tries to overfit as we increase the max_depth.\n",
    "\n",
    "Thus, controlling the depth of the constituent trees will help reduce overfitting in the forest."
   ]
  },
  {
   "cell_type": "markdown",
   "metadata": {},
   "source": [
    "<hr>"
   ]
  },
  {
   "cell_type": "markdown",
   "metadata": {},
   "source": [
    "### Tuning n_estimators"
   ]
  },
  {
   "cell_type": "markdown",
   "metadata": {},
   "source": [
    "Let's try to find the optimum values for n_estimators and understand how the value of n_estimators impacts the overall accuracy. Notice that we'll specify an appropriately low value of max_depth, so that the trees do not overfit.\n",
    "<br>\n"
   ]
  },
  {
   "cell_type": "code",
   "execution_count": 23,
   "metadata": {
    "scrolled": true
   },
   "outputs": [
    {
     "data": {
      "text/plain": [
       "GridSearchCV(cv=5, estimator=RandomForestClassifier(max_depth=4),\n",
       "             param_grid={'n_estimators': range(100, 1500, 400)},\n",
       "             return_train_score=True, scoring='accuracy')"
      ]
     },
     "execution_count": 23,
     "metadata": {},
     "output_type": "execute_result"
    }
   ],
   "source": [
    "# GridSearchCV to find optimal n_estimators\n",
    "from sklearn.model_selection import KFold\n",
    "from sklearn.model_selection import GridSearchCV\n",
    "\n",
    "\n",
    "# specify number of folds for k-fold CV\n",
    "n_folds = 5\n",
    "\n",
    "# parameters to build the model on\n",
    "parameters = {'n_estimators': range(100, 1500, 400)}\n",
    "\n",
    "# instantiate the model (note we are specifying a max_depth)\n",
    "rf = RandomForestClassifier(max_depth=4)\n",
    "\n",
    "\n",
    "# fit tree on training data\n",
    "rf = GridSearchCV(rf, parameters, \n",
    "                    cv=n_folds, \n",
    "                   scoring=\"accuracy\",\n",
    "                   return_train_score=True)\n",
    "rf.fit(X_train, y_train)"
   ]
  },
  {
   "cell_type": "code",
   "execution_count": 24,
   "metadata": {},
   "outputs": [
    {
     "data": {
      "text/html": [
       "<div>\n",
       "<style scoped>\n",
       "    .dataframe tbody tr th:only-of-type {\n",
       "        vertical-align: middle;\n",
       "    }\n",
       "\n",
       "    .dataframe tbody tr th {\n",
       "        vertical-align: top;\n",
       "    }\n",
       "\n",
       "    .dataframe thead th {\n",
       "        text-align: right;\n",
       "    }\n",
       "</style>\n",
       "<table border=\"1\" class=\"dataframe\">\n",
       "  <thead>\n",
       "    <tr style=\"text-align: right;\">\n",
       "      <th></th>\n",
       "      <th>mean_fit_time</th>\n",
       "      <th>std_fit_time</th>\n",
       "      <th>mean_score_time</th>\n",
       "      <th>std_score_time</th>\n",
       "      <th>param_n_estimators</th>\n",
       "      <th>params</th>\n",
       "      <th>split0_test_score</th>\n",
       "      <th>split1_test_score</th>\n",
       "      <th>split2_test_score</th>\n",
       "      <th>split3_test_score</th>\n",
       "      <th>...</th>\n",
       "      <th>mean_test_score</th>\n",
       "      <th>std_test_score</th>\n",
       "      <th>rank_test_score</th>\n",
       "      <th>split0_train_score</th>\n",
       "      <th>split1_train_score</th>\n",
       "      <th>split2_train_score</th>\n",
       "      <th>split3_train_score</th>\n",
       "      <th>split4_train_score</th>\n",
       "      <th>mean_train_score</th>\n",
       "      <th>std_train_score</th>\n",
       "    </tr>\n",
       "  </thead>\n",
       "  <tbody>\n",
       "    <tr>\n",
       "      <th>0</th>\n",
       "      <td>1.327465</td>\n",
       "      <td>0.013774</td>\n",
       "      <td>0.043785</td>\n",
       "      <td>0.000658</td>\n",
       "      <td>100</td>\n",
       "      <td>{'n_estimators': 100}</td>\n",
       "      <td>0.811429</td>\n",
       "      <td>0.814286</td>\n",
       "      <td>0.811667</td>\n",
       "      <td>0.805476</td>\n",
       "      <td>...</td>\n",
       "      <td>0.810048</td>\n",
       "      <td>0.003178</td>\n",
       "      <td>2</td>\n",
       "      <td>0.811250</td>\n",
       "      <td>0.810893</td>\n",
       "      <td>0.811607</td>\n",
       "      <td>0.811607</td>\n",
       "      <td>0.812143</td>\n",
       "      <td>0.811500</td>\n",
       "      <td>0.000416</td>\n",
       "    </tr>\n",
       "    <tr>\n",
       "      <th>1</th>\n",
       "      <td>7.217827</td>\n",
       "      <td>0.512548</td>\n",
       "      <td>0.228512</td>\n",
       "      <td>0.025161</td>\n",
       "      <td>500</td>\n",
       "      <td>{'n_estimators': 500}</td>\n",
       "      <td>0.810714</td>\n",
       "      <td>0.814286</td>\n",
       "      <td>0.810952</td>\n",
       "      <td>0.806667</td>\n",
       "      <td>...</td>\n",
       "      <td>0.810238</td>\n",
       "      <td>0.002556</td>\n",
       "      <td>1</td>\n",
       "      <td>0.810774</td>\n",
       "      <td>0.810714</td>\n",
       "      <td>0.811845</td>\n",
       "      <td>0.812917</td>\n",
       "      <td>0.813214</td>\n",
       "      <td>0.811893</td>\n",
       "      <td>0.001043</td>\n",
       "    </tr>\n",
       "    <tr>\n",
       "      <th>2</th>\n",
       "      <td>13.702891</td>\n",
       "      <td>0.687936</td>\n",
       "      <td>0.421101</td>\n",
       "      <td>0.023737</td>\n",
       "      <td>900</td>\n",
       "      <td>{'n_estimators': 900}</td>\n",
       "      <td>0.811429</td>\n",
       "      <td>0.813810</td>\n",
       "      <td>0.810952</td>\n",
       "      <td>0.805000</td>\n",
       "      <td>...</td>\n",
       "      <td>0.809714</td>\n",
       "      <td>0.003128</td>\n",
       "      <td>4</td>\n",
       "      <td>0.811131</td>\n",
       "      <td>0.810238</td>\n",
       "      <td>0.812381</td>\n",
       "      <td>0.812381</td>\n",
       "      <td>0.812500</td>\n",
       "      <td>0.811726</td>\n",
       "      <td>0.000897</td>\n",
       "    </tr>\n",
       "    <tr>\n",
       "      <th>3</th>\n",
       "      <td>21.871469</td>\n",
       "      <td>2.332189</td>\n",
       "      <td>0.625252</td>\n",
       "      <td>0.075567</td>\n",
       "      <td>1300</td>\n",
       "      <td>{'n_estimators': 1300}</td>\n",
       "      <td>0.811667</td>\n",
       "      <td>0.814048</td>\n",
       "      <td>0.810952</td>\n",
       "      <td>0.805238</td>\n",
       "      <td>...</td>\n",
       "      <td>0.809762</td>\n",
       "      <td>0.003226</td>\n",
       "      <td>3</td>\n",
       "      <td>0.811190</td>\n",
       "      <td>0.810476</td>\n",
       "      <td>0.811429</td>\n",
       "      <td>0.812679</td>\n",
       "      <td>0.812738</td>\n",
       "      <td>0.811702</td>\n",
       "      <td>0.000879</td>\n",
       "    </tr>\n",
       "  </tbody>\n",
       "</table>\n",
       "<p>4 rows × 21 columns</p>\n",
       "</div>"
      ],
      "text/plain": [
       "   mean_fit_time  std_fit_time  mean_score_time  std_score_time  \\\n",
       "0       1.327465      0.013774         0.043785        0.000658   \n",
       "1       7.217827      0.512548         0.228512        0.025161   \n",
       "2      13.702891      0.687936         0.421101        0.023737   \n",
       "3      21.871469      2.332189         0.625252        0.075567   \n",
       "\n",
       "  param_n_estimators                  params  split0_test_score  \\\n",
       "0                100   {'n_estimators': 100}           0.811429   \n",
       "1                500   {'n_estimators': 500}           0.810714   \n",
       "2                900   {'n_estimators': 900}           0.811429   \n",
       "3               1300  {'n_estimators': 1300}           0.811667   \n",
       "\n",
       "   split1_test_score  split2_test_score  split3_test_score  ...  \\\n",
       "0           0.814286           0.811667           0.805476  ...   \n",
       "1           0.814286           0.810952           0.806667  ...   \n",
       "2           0.813810           0.810952           0.805000  ...   \n",
       "3           0.814048           0.810952           0.805238  ...   \n",
       "\n",
       "   mean_test_score  std_test_score  rank_test_score  split0_train_score  \\\n",
       "0         0.810048        0.003178                2            0.811250   \n",
       "1         0.810238        0.002556                1            0.810774   \n",
       "2         0.809714        0.003128                4            0.811131   \n",
       "3         0.809762        0.003226                3            0.811190   \n",
       "\n",
       "   split1_train_score  split2_train_score  split3_train_score  \\\n",
       "0            0.810893            0.811607            0.811607   \n",
       "1            0.810714            0.811845            0.812917   \n",
       "2            0.810238            0.812381            0.812381   \n",
       "3            0.810476            0.811429            0.812679   \n",
       "\n",
       "   split4_train_score  mean_train_score  std_train_score  \n",
       "0            0.812143          0.811500         0.000416  \n",
       "1            0.813214          0.811893         0.001043  \n",
       "2            0.812500          0.811726         0.000897  \n",
       "3            0.812738          0.811702         0.000879  \n",
       "\n",
       "[4 rows x 21 columns]"
      ]
     },
     "execution_count": 24,
     "metadata": {},
     "output_type": "execute_result"
    }
   ],
   "source": [
    "# scores of GridSearch CV\n",
    "scores = rf.cv_results_\n",
    "pd.DataFrame(scores).head()"
   ]
  },
  {
   "cell_type": "code",
   "execution_count": 25,
   "metadata": {},
   "outputs": [
    {
     "data": {
      "image/png": "[encoded data removed]",
      "text/plain": [
       "<Figure size 432x288 with 1 Axes>"
      ]
     },
     "metadata": {
      "needs_background": "light"
     },
     "output_type": "display_data"
    }
   ],
   "source": [
    "# plotting accuracies with n_estimators\n",
    "plt.figure()\n",
    "plt.plot(scores[\"param_n_estimators\"], \n",
    "         scores[\"mean_train_score\"], \n",
    "         label=\"training accuracy\")\n",
    "plt.plot(scores[\"param_n_estimators\"], \n",
    "         scores[\"mean_test_score\"], \n",
    "         label=\"test accuracy\")\n",
    "plt.xlabel(\"n_estimators\")\n",
    "plt.ylabel(\"Accuracy\")\n",
    "plt.legend()\n",
    "plt.show()\n"
   ]
  },
  {
   "cell_type": "markdown",
   "metadata": {},
   "source": [
    "<hr>"
   ]
  },
  {
   "cell_type": "markdown",
   "metadata": {},
   "source": [
    "### Tuning max_features\n",
    "\n",
    "Let's see how the model performance varies with ```max_features```, which is the maximum numbre of features considered for splitting at a node."
   ]
  },
  {
   "cell_type": "code",
   "execution_count": 27,
   "metadata": {},
   "outputs": [
    {
     "data": {
      "text/plain": [
       "GridSearchCV(cv=5, estimator=RandomForestClassifier(max_depth=4),\n",
       "             param_grid={'max_features': [4, 8, 14, 20, 24]},\n",
       "             return_train_score=True, scoring='accuracy')"
      ]
     },
     "execution_count": 27,
     "metadata": {},
     "output_type": "execute_result"
    }
   ],
   "source": [
    "# GridSearchCV to find optimal max_features\n",
    "from sklearn.model_selection import KFold\n",
    "from sklearn.model_selection import GridSearchCV\n",
    "\n",
    "\n",
    "# specify number of folds for k-fold CV\n",
    "n_folds = 5\n",
    "\n",
    "# parameters to build the model on\n",
    "parameters = {'max_features': [4, 8, 14, 20, 24]}\n",
    "\n",
    "# instantiate the model\n",
    "rf = RandomForestClassifier(max_depth=4)\n",
    "\n",
    "\n",
    "# fit tree on training data\n",
    "rf = GridSearchCV(rf, parameters, \n",
    "                    cv=n_folds, \n",
    "                   scoring=\"accuracy\",\n",
    "                   return_train_score=True)\n",
    "rf.fit(X_train, y_train)"
   ]
  },
  {
   "cell_type": "code",
   "execution_count": 28,
   "metadata": {},
   "outputs": [
    {
     "data": {
      "text/html": [
       "<div>\n",
       "<style scoped>\n",
       "    .dataframe tbody tr th:only-of-type {\n",
       "        vertical-align: middle;\n",
       "    }\n",
       "\n",
       "    .dataframe tbody tr th {\n",
       "        vertical-align: top;\n",
       "    }\n",
       "\n",
       "    .dataframe thead th {\n",
       "        text-align: right;\n",
       "    }\n",
       "</style>\n",
       "<table border=\"1\" class=\"dataframe\">\n",
       "  <thead>\n",
       "    <tr style=\"text-align: right;\">\n",
       "      <th></th>\n",
       "      <th>mean_fit_time</th>\n",
       "      <th>std_fit_time</th>\n",
       "      <th>mean_score_time</th>\n",
       "      <th>std_score_time</th>\n",
       "      <th>param_max_features</th>\n",
       "      <th>params</th>\n",
       "      <th>split0_test_score</th>\n",
       "      <th>split1_test_score</th>\n",
       "      <th>split2_test_score</th>\n",
       "      <th>split3_test_score</th>\n",
       "      <th>...</th>\n",
       "      <th>mean_test_score</th>\n",
       "      <th>std_test_score</th>\n",
       "      <th>rank_test_score</th>\n",
       "      <th>split0_train_score</th>\n",
       "      <th>split1_train_score</th>\n",
       "      <th>split2_train_score</th>\n",
       "      <th>split3_train_score</th>\n",
       "      <th>split4_train_score</th>\n",
       "      <th>mean_train_score</th>\n",
       "      <th>std_train_score</th>\n",
       "    </tr>\n",
       "  </thead>\n",
       "  <tbody>\n",
       "    <tr>\n",
       "      <th>0</th>\n",
       "      <td>1.479991</td>\n",
       "      <td>0.124785</td>\n",
       "      <td>0.049546</td>\n",
       "      <td>0.002525</td>\n",
       "      <td>4</td>\n",
       "      <td>{'max_features': 4}</td>\n",
       "      <td>0.813095</td>\n",
       "      <td>0.815238</td>\n",
       "      <td>0.810000</td>\n",
       "      <td>0.804286</td>\n",
       "      <td>...</td>\n",
       "      <td>0.809952</td>\n",
       "      <td>0.003945</td>\n",
       "      <td>5</td>\n",
       "      <td>0.812738</td>\n",
       "      <td>0.810595</td>\n",
       "      <td>0.811012</td>\n",
       "      <td>0.812024</td>\n",
       "      <td>0.811250</td>\n",
       "      <td>0.811524</td>\n",
       "      <td>0.000765</td>\n",
       "    </tr>\n",
       "    <tr>\n",
       "      <th>1</th>\n",
       "      <td>2.596687</td>\n",
       "      <td>0.127589</td>\n",
       "      <td>0.049472</td>\n",
       "      <td>0.004300</td>\n",
       "      <td>8</td>\n",
       "      <td>{'max_features': 8}</td>\n",
       "      <td>0.817619</td>\n",
       "      <td>0.820952</td>\n",
       "      <td>0.821190</td>\n",
       "      <td>0.817143</td>\n",
       "      <td>...</td>\n",
       "      <td>0.819095</td>\n",
       "      <td>0.001680</td>\n",
       "      <td>1</td>\n",
       "      <td>0.821310</td>\n",
       "      <td>0.820655</td>\n",
       "      <td>0.821190</td>\n",
       "      <td>0.821429</td>\n",
       "      <td>0.821607</td>\n",
       "      <td>0.821238</td>\n",
       "      <td>0.000323</td>\n",
       "    </tr>\n",
       "    <tr>\n",
       "      <th>2</th>\n",
       "      <td>4.353604</td>\n",
       "      <td>0.066211</td>\n",
       "      <td>0.047421</td>\n",
       "      <td>0.001444</td>\n",
       "      <td>14</td>\n",
       "      <td>{'max_features': 14}</td>\n",
       "      <td>0.817857</td>\n",
       "      <td>0.820952</td>\n",
       "      <td>0.819762</td>\n",
       "      <td>0.815476</td>\n",
       "      <td>...</td>\n",
       "      <td>0.818571</td>\n",
       "      <td>0.001857</td>\n",
       "      <td>2</td>\n",
       "      <td>0.821905</td>\n",
       "      <td>0.820357</td>\n",
       "      <td>0.821548</td>\n",
       "      <td>0.823393</td>\n",
       "      <td>0.821786</td>\n",
       "      <td>0.821798</td>\n",
       "      <td>0.000969</td>\n",
       "    </tr>\n",
       "    <tr>\n",
       "      <th>3</th>\n",
       "      <td>5.891478</td>\n",
       "      <td>0.117571</td>\n",
       "      <td>0.048450</td>\n",
       "      <td>0.002862</td>\n",
       "      <td>20</td>\n",
       "      <td>{'max_features': 20}</td>\n",
       "      <td>0.817143</td>\n",
       "      <td>0.821429</td>\n",
       "      <td>0.819524</td>\n",
       "      <td>0.815952</td>\n",
       "      <td>...</td>\n",
       "      <td>0.818286</td>\n",
       "      <td>0.001948</td>\n",
       "      <td>3</td>\n",
       "      <td>0.822857</td>\n",
       "      <td>0.821310</td>\n",
       "      <td>0.822024</td>\n",
       "      <td>0.822976</td>\n",
       "      <td>0.821667</td>\n",
       "      <td>0.822167</td>\n",
       "      <td>0.000654</td>\n",
       "    </tr>\n",
       "    <tr>\n",
       "      <th>4</th>\n",
       "      <td>7.108797</td>\n",
       "      <td>0.203277</td>\n",
       "      <td>0.047773</td>\n",
       "      <td>0.003961</td>\n",
       "      <td>24</td>\n",
       "      <td>{'max_features': 24}</td>\n",
       "      <td>0.818095</td>\n",
       "      <td>0.821667</td>\n",
       "      <td>0.819048</td>\n",
       "      <td>0.815714</td>\n",
       "      <td>...</td>\n",
       "      <td>0.818238</td>\n",
       "      <td>0.002063</td>\n",
       "      <td>4</td>\n",
       "      <td>0.823274</td>\n",
       "      <td>0.821429</td>\n",
       "      <td>0.822262</td>\n",
       "      <td>0.822798</td>\n",
       "      <td>0.822679</td>\n",
       "      <td>0.822488</td>\n",
       "      <td>0.000620</td>\n",
       "    </tr>\n",
       "  </tbody>\n",
       "</table>\n",
       "<p>5 rows × 21 columns</p>\n",
       "</div>"
      ],
      "text/plain": [
       "   mean_fit_time  std_fit_time  mean_score_time  std_score_time  \\\n",
       "0       1.479991      0.124785         0.049546        0.002525   \n",
       "1       2.596687      0.127589         0.049472        0.004300   \n",
       "2       4.353604      0.066211         0.047421        0.001444   \n",
       "3       5.891478      0.117571         0.048450        0.002862   \n",
       "4       7.108797      0.203277         0.047773        0.003961   \n",
       "\n",
       "  param_max_features                params  split0_test_score  \\\n",
       "0                  4   {'max_features': 4}           0.813095   \n",
       "1                  8   {'max_features': 8}           0.817619   \n",
       "2                 14  {'max_features': 14}           0.817857   \n",
       "3                 20  {'max_features': 20}           0.817143   \n",
       "4                 24  {'max_features': 24}           0.818095   \n",
       "\n",
       "   split1_test_score  split2_test_score  split3_test_score  ...  \\\n",
       "0           0.815238           0.810000           0.804286  ...   \n",
       "1           0.820952           0.821190           0.817143  ...   \n",
       "2           0.820952           0.819762           0.815476  ...   \n",
       "3           0.821429           0.819524           0.815952  ...   \n",
       "4           0.821667           0.819048           0.815714  ...   \n",
       "\n",
       "   mean_test_score  std_test_score  rank_test_score  split0_train_score  \\\n",
       "0         0.809952        0.003945                5            0.812738   \n",
       "1         0.819095        0.001680                1            0.821310   \n",
       "2         0.818571        0.001857                2            0.821905   \n",
       "3         0.818286        0.001948                3            0.822857   \n",
       "4         0.818238        0.002063                4            0.823274   \n",
       "\n",
       "   split1_train_score  split2_train_score  split3_train_score  \\\n",
       "0            0.810595            0.811012            0.812024   \n",
       "1            0.820655            0.821190            0.821429   \n",
       "2            0.820357            0.821548            0.823393   \n",
       "3            0.821310            0.822024            0.822976   \n",
       "4            0.821429            0.822262            0.822798   \n",
       "\n",
       "   split4_train_score  mean_train_score  std_train_score  \n",
       "0            0.811250          0.811524         0.000765  \n",
       "1            0.821607          0.821238         0.000323  \n",
       "2            0.821786          0.821798         0.000969  \n",
       "3            0.821667          0.822167         0.000654  \n",
       "4            0.822679          0.822488         0.000620  \n",
       "\n",
       "[5 rows x 21 columns]"
      ]
     },
     "execution_count": 28,
     "metadata": {},
     "output_type": "execute_result"
    }
   ],
   "source": [
    "# scores of GridSearch CV\n",
    "scores = rf.cv_results_\n",
    "pd.DataFrame(scores).head()"
   ]
  },
  {
   "cell_type": "code",
   "execution_count": 29,
   "metadata": {},
   "outputs": [
    {
     "data": {
      "image/png": "[encoded data removed]",
      "text/plain": [
       "<Figure size 432x288 with 1 Axes>"
      ]
     },
     "metadata": {
      "needs_background": "light"
     },
     "output_type": "display_data"
    }
   ],
   "source": [
    "# plotting accuracies with max_features\n",
    "plt.figure()\n",
    "plt.plot(scores[\"param_max_features\"], \n",
    "         scores[\"mean_train_score\"], \n",
    "         label=\"training accuracy\")\n",
    "plt.plot(scores[\"param_max_features\"], \n",
    "         scores[\"mean_test_score\"], \n",
    "         label=\"test accuracy\")\n",
    "plt.xlabel(\"max_features\")\n",
    "plt.ylabel(\"Accuracy\")\n",
    "plt.legend()\n",
    "plt.show()\n"
   ]
  },
  {
   "cell_type": "markdown",
   "metadata": {},
   "source": [
    "Apparently, the training and test scores *both* seem to increase as we increase max_features, and the model doesn't seem to overfit more with increasing max_features. Think about why that might be the case."
   ]
  },
  {
   "cell_type": "markdown",
   "metadata": {},
   "source": [
    "### Tuning min_samples_leaf"
   ]
  },
  {
   "cell_type": "markdown",
   "metadata": {},
   "source": [
    "The hyperparameter **min_samples_leaf** is the minimum number of samples required to be at a leaf node:\n",
    "- If int, then consider min_samples_leaf as the minimum number.\n",
    "- If float, then min_samples_leaf is a percentage and ceil(min_samples_leaf * n_samples) are the minimum number of samples for each node."
   ]
  },
  {
   "cell_type": "markdown",
   "metadata": {},
   "source": [
    "Let's now check the optimum value for min samples leaf in our case."
   ]
  },
  {
   "cell_type": "code",
   "execution_count": 32,
   "metadata": {},
   "outputs": [
    {
     "data": {
      "text/plain": [
       "GridSearchCV(cv=5, estimator=RandomForestClassifier(),\n",
       "             param_grid={'min_samples_leaf': range(100, 400, 50)},\n",
       "             return_train_score=True, scoring='accuracy')"
      ]
     },
     "execution_count": 32,
     "metadata": {},
     "output_type": "execute_result"
    }
   ],
   "source": [
    "# GridSearchCV to find optimal min_samples_leaf\n",
    "from sklearn.model_selection import KFold\n",
    "from sklearn.model_selection import GridSearchCV\n",
    "\n",
    "\n",
    "# specify number of folds for k-fold CV\n",
    "n_folds = 5\n",
    "\n",
    "# parameters to build the model on\n",
    "parameters = {'min_samples_leaf': range(100, 400, 50)}\n",
    "\n",
    "# instantiate the model\n",
    "rf = RandomForestClassifier()\n",
    "\n",
    "\n",
    "# fit tree on training data\n",
    "rf = GridSearchCV(rf, parameters, \n",
    "                    cv=n_folds, \n",
    "                   scoring=\"accuracy\",\n",
    "                   return_train_score=True)\n",
    "rf.fit(X_train, y_train)"
   ]
  },
  {
   "cell_type": "code",
   "execution_count": 33,
   "metadata": {},
   "outputs": [
    {
     "data": {
      "text/html": [
       "<div>\n",
       "<style scoped>\n",
       "    .dataframe tbody tr th:only-of-type {\n",
       "        vertical-align: middle;\n",
       "    }\n",
       "\n",
       "    .dataframe tbody tr th {\n",
       "        vertical-align: top;\n",
       "    }\n",
       "\n",
       "    .dataframe thead th {\n",
       "        text-align: right;\n",
       "    }\n",
       "</style>\n",
       "<table border=\"1\" class=\"dataframe\">\n",
       "  <thead>\n",
       "    <tr style=\"text-align: right;\">\n",
       "      <th></th>\n",
       "      <th>mean_fit_time</th>\n",
       "      <th>std_fit_time</th>\n",
       "      <th>mean_score_time</th>\n",
       "      <th>std_score_time</th>\n",
       "      <th>param_min_samples_leaf</th>\n",
       "      <th>params</th>\n",
       "      <th>split0_test_score</th>\n",
       "      <th>split1_test_score</th>\n",
       "      <th>split2_test_score</th>\n",
       "      <th>split3_test_score</th>\n",
       "      <th>...</th>\n",
       "      <th>mean_test_score</th>\n",
       "      <th>std_test_score</th>\n",
       "      <th>rank_test_score</th>\n",
       "      <th>split0_train_score</th>\n",
       "      <th>split1_train_score</th>\n",
       "      <th>split2_train_score</th>\n",
       "      <th>split3_train_score</th>\n",
       "      <th>split4_train_score</th>\n",
       "      <th>mean_train_score</th>\n",
       "      <th>std_train_score</th>\n",
       "    </tr>\n",
       "  </thead>\n",
       "  <tbody>\n",
       "    <tr>\n",
       "      <th>0</th>\n",
       "      <td>2.807638</td>\n",
       "      <td>0.239596</td>\n",
       "      <td>0.071506</td>\n",
       "      <td>0.005455</td>\n",
       "      <td>100</td>\n",
       "      <td>{'min_samples_leaf': 100}</td>\n",
       "      <td>0.814524</td>\n",
       "      <td>0.814524</td>\n",
       "      <td>0.811905</td>\n",
       "      <td>0.810952</td>\n",
       "      <td>...</td>\n",
       "      <td>0.813238</td>\n",
       "      <td>0.001510</td>\n",
       "      <td>1</td>\n",
       "      <td>0.820000</td>\n",
       "      <td>0.814524</td>\n",
       "      <td>0.813750</td>\n",
       "      <td>0.818095</td>\n",
       "      <td>0.819405</td>\n",
       "      <td>0.817155</td>\n",
       "      <td>0.002552</td>\n",
       "    </tr>\n",
       "    <tr>\n",
       "      <th>1</th>\n",
       "      <td>2.595111</td>\n",
       "      <td>0.100544</td>\n",
       "      <td>0.067588</td>\n",
       "      <td>0.005175</td>\n",
       "      <td>150</td>\n",
       "      <td>{'min_samples_leaf': 150}</td>\n",
       "      <td>0.811190</td>\n",
       "      <td>0.814524</td>\n",
       "      <td>0.809524</td>\n",
       "      <td>0.807381</td>\n",
       "      <td>...</td>\n",
       "      <td>0.810381</td>\n",
       "      <td>0.002398</td>\n",
       "      <td>2</td>\n",
       "      <td>0.810893</td>\n",
       "      <td>0.812440</td>\n",
       "      <td>0.810893</td>\n",
       "      <td>0.814821</td>\n",
       "      <td>0.812917</td>\n",
       "      <td>0.812393</td>\n",
       "      <td>0.001461</td>\n",
       "    </tr>\n",
       "    <tr>\n",
       "      <th>2</th>\n",
       "      <td>2.277577</td>\n",
       "      <td>0.076520</td>\n",
       "      <td>0.060362</td>\n",
       "      <td>0.002110</td>\n",
       "      <td>200</td>\n",
       "      <td>{'min_samples_leaf': 200}</td>\n",
       "      <td>0.810952</td>\n",
       "      <td>0.810714</td>\n",
       "      <td>0.813095</td>\n",
       "      <td>0.805238</td>\n",
       "      <td>...</td>\n",
       "      <td>0.809619</td>\n",
       "      <td>0.002705</td>\n",
       "      <td>3</td>\n",
       "      <td>0.809881</td>\n",
       "      <td>0.808869</td>\n",
       "      <td>0.813631</td>\n",
       "      <td>0.810893</td>\n",
       "      <td>0.811845</td>\n",
       "      <td>0.811024</td>\n",
       "      <td>0.001639</td>\n",
       "    </tr>\n",
       "    <tr>\n",
       "      <th>3</th>\n",
       "      <td>2.159697</td>\n",
       "      <td>0.062373</td>\n",
       "      <td>0.059124</td>\n",
       "      <td>0.002923</td>\n",
       "      <td>250</td>\n",
       "      <td>{'min_samples_leaf': 250}</td>\n",
       "      <td>0.809048</td>\n",
       "      <td>0.811190</td>\n",
       "      <td>0.809762</td>\n",
       "      <td>0.801905</td>\n",
       "      <td>...</td>\n",
       "      <td>0.807524</td>\n",
       "      <td>0.003335</td>\n",
       "      <td>5</td>\n",
       "      <td>0.807440</td>\n",
       "      <td>0.808571</td>\n",
       "      <td>0.808393</td>\n",
       "      <td>0.809226</td>\n",
       "      <td>0.809702</td>\n",
       "      <td>0.808667</td>\n",
       "      <td>0.000771</td>\n",
       "    </tr>\n",
       "    <tr>\n",
       "      <th>4</th>\n",
       "      <td>2.055739</td>\n",
       "      <td>0.099401</td>\n",
       "      <td>0.056741</td>\n",
       "      <td>0.002618</td>\n",
       "      <td>300</td>\n",
       "      <td>{'min_samples_leaf': 300}</td>\n",
       "      <td>0.809286</td>\n",
       "      <td>0.809762</td>\n",
       "      <td>0.808333</td>\n",
       "      <td>0.805000</td>\n",
       "      <td>...</td>\n",
       "      <td>0.807857</td>\n",
       "      <td>0.001730</td>\n",
       "      <td>4</td>\n",
       "      <td>0.807262</td>\n",
       "      <td>0.807500</td>\n",
       "      <td>0.806488</td>\n",
       "      <td>0.810774</td>\n",
       "      <td>0.811310</td>\n",
       "      <td>0.808667</td>\n",
       "      <td>0.001975</td>\n",
       "    </tr>\n",
       "  </tbody>\n",
       "</table>\n",
       "<p>5 rows × 21 columns</p>\n",
       "</div>"
      ],
      "text/plain": [
       "   mean_fit_time  std_fit_time  mean_score_time  std_score_time  \\\n",
       "0       2.807638      0.239596         0.071506        0.005455   \n",
       "1       2.595111      0.100544         0.067588        0.005175   \n",
       "2       2.277577      0.076520         0.060362        0.002110   \n",
       "3       2.159697      0.062373         0.059124        0.002923   \n",
       "4       2.055739      0.099401         0.056741        0.002618   \n",
       "\n",
       "  param_min_samples_leaf                     params  split0_test_score  \\\n",
       "0                    100  {'min_samples_leaf': 100}           0.814524   \n",
       "1                    150  {'min_samples_leaf': 150}           0.811190   \n",
       "2                    200  {'min_samples_leaf': 200}           0.810952   \n",
       "3                    250  {'min_samples_leaf': 250}           0.809048   \n",
       "4                    300  {'min_samples_leaf': 300}           0.809286   \n",
       "\n",
       "   split1_test_score  split2_test_score  split3_test_score  ...  \\\n",
       "0           0.814524           0.811905           0.810952  ...   \n",
       "1           0.814524           0.809524           0.807381  ...   \n",
       "2           0.810714           0.813095           0.805238  ...   \n",
       "3           0.811190           0.809762           0.801905  ...   \n",
       "4           0.809762           0.808333           0.805000  ...   \n",
       "\n",
       "   mean_test_score  std_test_score  rank_test_score  split0_train_score  \\\n",
       "0         0.813238        0.001510                1            0.820000   \n",
       "1         0.810381        0.002398                2            0.810893   \n",
       "2         0.809619        0.002705                3            0.809881   \n",
       "3         0.807524        0.003335                5            0.807440   \n",
       "4         0.807857        0.001730                4            0.807262   \n",
       "\n",
       "   split1_train_score  split2_train_score  split3_train_score  \\\n",
       "0            0.814524            0.813750            0.818095   \n",
       "1            0.812440            0.810893            0.814821   \n",
       "2            0.808869            0.813631            0.810893   \n",
       "3            0.808571            0.808393            0.809226   \n",
       "4            0.807500            0.806488            0.810774   \n",
       "\n",
       "   split4_train_score  mean_train_score  std_train_score  \n",
       "0            0.819405          0.817155         0.002552  \n",
       "1            0.812917          0.812393         0.001461  \n",
       "2            0.811845          0.811024         0.001639  \n",
       "3            0.809702          0.808667         0.000771  \n",
       "4            0.811310          0.808667         0.001975  \n",
       "\n",
       "[5 rows x 21 columns]"
      ]
     },
     "execution_count": 33,
     "metadata": {},
     "output_type": "execute_result"
    }
   ],
   "source": [
    "# scores of GridSearch CV\n",
    "scores = rf.cv_results_\n",
    "pd.DataFrame(scores).head()"
   ]
  },
  {
   "cell_type": "code",
   "execution_count": 34,
   "metadata": {},
   "outputs": [
    {
     "data": {
      "image/png": "[encoded data removed]",
      "text/plain": [
       "<Figure size 432x288 with 1 Axes>"
      ]
     },
     "metadata": {
      "needs_background": "light"
     },
     "output_type": "display_data"
    }
   ],
   "source": [
    "# plotting accuracies with min_samples_leaf\n",
    "plt.figure()\n",
    "plt.plot(scores[\"param_min_samples_leaf\"], \n",
    "         scores[\"mean_train_score\"], \n",
    "         label=\"training accuracy\")\n",
    "plt.plot(scores[\"param_min_samples_leaf\"], \n",
    "         scores[\"mean_test_score\"], \n",
    "         label=\"test accuracy\")\n",
    "plt.xlabel(\"min_samples_leaf\")\n",
    "plt.ylabel(\"Accuracy\")\n",
    "plt.legend()\n",
    "plt.show()"
   ]
  },
  {
   "cell_type": "markdown",
   "metadata": {},
   "source": [
    "You can see that the model starts of overfit as you decrease the value of min_samples_leaf. "
   ]
  },
  {
   "cell_type": "markdown",
   "metadata": {},
   "source": [
    "### Tuning min_samples_split\n",
    "\n",
    "Let's now look at the performance of the ensemble as we vary min_samples_split."
   ]
  },
  {
   "cell_type": "code",
   "execution_count": 35,
   "metadata": {
    "scrolled": true
   },
   "outputs": [
    {
     "data": {
      "text/plain": [
       "GridSearchCV(cv=5, estimator=RandomForestClassifier(),\n",
       "             param_grid={'min_samples_split': range(200, 500, 50)},\n",
       "             return_train_score=True, scoring='accuracy')"
      ]
     },
     "execution_count": 35,
     "metadata": {},
     "output_type": "execute_result"
    }
   ],
   "source": [
    "# GridSearchCV to find optimal min_samples_split\n",
    "from sklearn.model_selection import KFold\n",
    "from sklearn.model_selection import GridSearchCV\n",
    "\n",
    "\n",
    "# specify number of folds for k-fold CV\n",
    "n_folds = 5\n",
    "\n",
    "# parameters to build the model on\n",
    "parameters = {'min_samples_split': range(200, 500, 50)}\n",
    "\n",
    "# instantiate the model\n",
    "rf = RandomForestClassifier()\n",
    "\n",
    "\n",
    "# fit tree on training data\n",
    "rf = GridSearchCV(rf, parameters, \n",
    "                    cv=n_folds, \n",
    "                   scoring=\"accuracy\",\n",
    "                   return_train_score=True)\n",
    "rf.fit(X_train, y_train)"
   ]
  },
  {
   "cell_type": "code",
   "execution_count": 36,
   "metadata": {},
   "outputs": [
    {
     "data": {
      "text/html": [
       "<div>\n",
       "<style scoped>\n",
       "    .dataframe tbody tr th:only-of-type {\n",
       "        vertical-align: middle;\n",
       "    }\n",
       "\n",
       "    .dataframe tbody tr th {\n",
       "        vertical-align: top;\n",
       "    }\n",
       "\n",
       "    .dataframe thead th {\n",
       "        text-align: right;\n",
       "    }\n",
       "</style>\n",
       "<table border=\"1\" class=\"dataframe\">\n",
       "  <thead>\n",
       "    <tr style=\"text-align: right;\">\n",
       "      <th></th>\n",
       "      <th>mean_fit_time</th>\n",
       "      <th>std_fit_time</th>\n",
       "      <th>mean_score_time</th>\n",
       "      <th>std_score_time</th>\n",
       "      <th>param_min_samples_split</th>\n",
       "      <th>params</th>\n",
       "      <th>split0_test_score</th>\n",
       "      <th>split1_test_score</th>\n",
       "      <th>split2_test_score</th>\n",
       "      <th>split3_test_score</th>\n",
       "      <th>...</th>\n",
       "      <th>mean_test_score</th>\n",
       "      <th>std_test_score</th>\n",
       "      <th>rank_test_score</th>\n",
       "      <th>split0_train_score</th>\n",
       "      <th>split1_train_score</th>\n",
       "      <th>split2_train_score</th>\n",
       "      <th>split3_train_score</th>\n",
       "      <th>split4_train_score</th>\n",
       "      <th>mean_train_score</th>\n",
       "      <th>std_train_score</th>\n",
       "    </tr>\n",
       "  </thead>\n",
       "  <tbody>\n",
       "    <tr>\n",
       "      <th>0</th>\n",
       "      <td>4.585435</td>\n",
       "      <td>0.283559</td>\n",
       "      <td>0.101720</td>\n",
       "      <td>0.012579</td>\n",
       "      <td>200</td>\n",
       "      <td>{'min_samples_split': 200}</td>\n",
       "      <td>0.818810</td>\n",
       "      <td>0.820714</td>\n",
       "      <td>0.821905</td>\n",
       "      <td>0.817381</td>\n",
       "      <td>...</td>\n",
       "      <td>0.819429</td>\n",
       "      <td>0.001647</td>\n",
       "      <td>1</td>\n",
       "      <td>0.823631</td>\n",
       "      <td>0.823155</td>\n",
       "      <td>0.823571</td>\n",
       "      <td>0.824405</td>\n",
       "      <td>0.825238</td>\n",
       "      <td>0.824000</td>\n",
       "      <td>0.000739</td>\n",
       "    </tr>\n",
       "    <tr>\n",
       "      <th>1</th>\n",
       "      <td>4.315293</td>\n",
       "      <td>0.040536</td>\n",
       "      <td>0.088762</td>\n",
       "      <td>0.007642</td>\n",
       "      <td>250</td>\n",
       "      <td>{'min_samples_split': 250}</td>\n",
       "      <td>0.817143</td>\n",
       "      <td>0.821429</td>\n",
       "      <td>0.822381</td>\n",
       "      <td>0.816190</td>\n",
       "      <td>...</td>\n",
       "      <td>0.818524</td>\n",
       "      <td>0.002827</td>\n",
       "      <td>4</td>\n",
       "      <td>0.823214</td>\n",
       "      <td>0.822381</td>\n",
       "      <td>0.823512</td>\n",
       "      <td>0.823155</td>\n",
       "      <td>0.823036</td>\n",
       "      <td>0.823060</td>\n",
       "      <td>0.000374</td>\n",
       "    </tr>\n",
       "    <tr>\n",
       "      <th>2</th>\n",
       "      <td>4.373617</td>\n",
       "      <td>0.283793</td>\n",
       "      <td>0.093739</td>\n",
       "      <td>0.010024</td>\n",
       "      <td>300</td>\n",
       "      <td>{'min_samples_split': 300}</td>\n",
       "      <td>0.816905</td>\n",
       "      <td>0.821905</td>\n",
       "      <td>0.821190</td>\n",
       "      <td>0.816190</td>\n",
       "      <td>...</td>\n",
       "      <td>0.818619</td>\n",
       "      <td>0.002416</td>\n",
       "      <td>3</td>\n",
       "      <td>0.821250</td>\n",
       "      <td>0.820893</td>\n",
       "      <td>0.821190</td>\n",
       "      <td>0.821607</td>\n",
       "      <td>0.821726</td>\n",
       "      <td>0.821333</td>\n",
       "      <td>0.000300</td>\n",
       "    </tr>\n",
       "    <tr>\n",
       "      <th>3</th>\n",
       "      <td>4.155898</td>\n",
       "      <td>0.233888</td>\n",
       "      <td>0.081757</td>\n",
       "      <td>0.003675</td>\n",
       "      <td>350</td>\n",
       "      <td>{'min_samples_split': 350}</td>\n",
       "      <td>0.818095</td>\n",
       "      <td>0.820476</td>\n",
       "      <td>0.821429</td>\n",
       "      <td>0.815000</td>\n",
       "      <td>...</td>\n",
       "      <td>0.818476</td>\n",
       "      <td>0.002287</td>\n",
       "      <td>5</td>\n",
       "      <td>0.821190</td>\n",
       "      <td>0.819821</td>\n",
       "      <td>0.820952</td>\n",
       "      <td>0.821250</td>\n",
       "      <td>0.820774</td>\n",
       "      <td>0.820798</td>\n",
       "      <td>0.000517</td>\n",
       "    </tr>\n",
       "    <tr>\n",
       "      <th>4</th>\n",
       "      <td>3.509928</td>\n",
       "      <td>0.170617</td>\n",
       "      <td>0.072513</td>\n",
       "      <td>0.005073</td>\n",
       "      <td>400</td>\n",
       "      <td>{'min_samples_split': 400}</td>\n",
       "      <td>0.817381</td>\n",
       "      <td>0.821190</td>\n",
       "      <td>0.820952</td>\n",
       "      <td>0.815952</td>\n",
       "      <td>...</td>\n",
       "      <td>0.818619</td>\n",
       "      <td>0.002083</td>\n",
       "      <td>2</td>\n",
       "      <td>0.820833</td>\n",
       "      <td>0.819524</td>\n",
       "      <td>0.820476</td>\n",
       "      <td>0.820595</td>\n",
       "      <td>0.820536</td>\n",
       "      <td>0.820393</td>\n",
       "      <td>0.000451</td>\n",
       "    </tr>\n",
       "  </tbody>\n",
       "</table>\n",
       "<p>5 rows × 21 columns</p>\n",
       "</div>"
      ],
      "text/plain": [
       "   mean_fit_time  std_fit_time  mean_score_time  std_score_time  \\\n",
       "0       4.585435      0.283559         0.101720        0.012579   \n",
       "1       4.315293      0.040536         0.088762        0.007642   \n",
       "2       4.373617      0.283793         0.093739        0.010024   \n",
       "3       4.155898      0.233888         0.081757        0.003675   \n",
       "4       3.509928      0.170617         0.072513        0.005073   \n",
       "\n",
       "  param_min_samples_split                      params  split0_test_score  \\\n",
       "0                     200  {'min_samples_split': 200}           0.818810   \n",
       "1                     250  {'min_samples_split': 250}           0.817143   \n",
       "2                     300  {'min_samples_split': 300}           0.816905   \n",
       "3                     350  {'min_samples_split': 350}           0.818095   \n",
       "4                     400  {'min_samples_split': 400}           0.817381   \n",
       "\n",
       "   split1_test_score  split2_test_score  split3_test_score  ...  \\\n",
       "0           0.820714           0.821905           0.817381  ...   \n",
       "1           0.821429           0.822381           0.816190  ...   \n",
       "2           0.821905           0.821190           0.816190  ...   \n",
       "3           0.820476           0.821429           0.815000  ...   \n",
       "4           0.821190           0.820952           0.815952  ...   \n",
       "\n",
       "   mean_test_score  std_test_score  rank_test_score  split0_train_score  \\\n",
       "0         0.819429        0.001647                1            0.823631   \n",
       "1         0.818524        0.002827                4            0.823214   \n",
       "2         0.818619        0.002416                3            0.821250   \n",
       "3         0.818476        0.002287                5            0.821190   \n",
       "4         0.818619        0.002083                2            0.820833   \n",
       "\n",
       "   split1_train_score  split2_train_score  split3_train_score  \\\n",
       "0            0.823155            0.823571            0.824405   \n",
       "1            0.822381            0.823512            0.823155   \n",
       "2            0.820893            0.821190            0.821607   \n",
       "3            0.819821            0.820952            0.821250   \n",
       "4            0.819524            0.820476            0.820595   \n",
       "\n",
       "   split4_train_score  mean_train_score  std_train_score  \n",
       "0            0.825238          0.824000         0.000739  \n",
       "1            0.823036          0.823060         0.000374  \n",
       "2            0.821726          0.821333         0.000300  \n",
       "3            0.820774          0.820798         0.000517  \n",
       "4            0.820536          0.820393         0.000451  \n",
       "\n",
       "[5 rows x 21 columns]"
      ]
     },
     "execution_count": 36,
     "metadata": {},
     "output_type": "execute_result"
    }
   ],
   "source": [
    "# scores of GridSearch CV\n",
    "scores = rf.cv_results_\n",
    "pd.DataFrame(scores).head()"
   ]
  },
  {
   "cell_type": "code",
   "execution_count": 37,
   "metadata": {},
   "outputs": [
    {
     "data": {
      "image/png": "[encoded data removed]",
      "text/plain": [
       "<Figure size 432x288 with 1 Axes>"
      ]
     },
     "metadata": {
      "needs_background": "light"
     },
     "output_type": "display_data"
    }
   ],
   "source": [
    "# plotting accuracies with min_samples_split\n",
    "plt.figure()\n",
    "plt.plot(scores[\"param_min_samples_split\"], \n",
    "         scores[\"mean_train_score\"], \n",
    "         label=\"training accuracy\")\n",
    "plt.plot(scores[\"param_min_samples_split\"], \n",
    "         scores[\"mean_test_score\"], \n",
    "         label=\"test accuracy\")\n",
    "plt.xlabel(\"min_samples_split\")\n",
    "plt.ylabel(\"Accuracy\")\n",
    "plt.legend()\n",
    "plt.show()"
   ]
  },
  {
   "cell_type": "markdown",
   "metadata": {},
   "source": [
    "<hr>"
   ]
  },
  {
   "cell_type": "markdown",
   "metadata": {},
   "source": [
    "## Grid Search to Find Optimal Hyperparameters"
   ]
  },
  {
   "cell_type": "markdown",
   "metadata": {},
   "source": [
    "We can now find the optimal hyperparameters using GridSearchCV."
   ]
  },
  {
   "cell_type": "code",
   "execution_count": 38,
   "metadata": {},
   "outputs": [],
   "source": [
    "# Create the parameter grid based on the results of random search \n",
    "param_grid = {\n",
    "    'max_depth': [4,8,10],\n",
    "    'min_samples_leaf': range(100, 400, 200),\n",
    "    'min_samples_split': range(200, 500, 200),\n",
    "    'n_estimators': [100,200, 300], \n",
    "    'max_features': [5, 10]\n",
    "}\n",
    "# Create a based model\n",
    "rf = RandomForestClassifier()\n",
    "# Instantiate the grid search model\n",
    "grid_search = GridSearchCV(estimator = rf, param_grid = param_grid, \n",
    "                          cv = 3, n_jobs = -1,verbose = 1)"
   ]
  },
  {
   "cell_type": "code",
   "execution_count": 39,
   "metadata": {},
   "outputs": [
    {
     "name": "stdout",
     "output_type": "stream",
     "text": [
      "Fitting 3 folds for each of 72 candidates, totalling 216 fits\n"
     ]
    },
    {
     "name": "stderr",
     "output_type": "stream",
     "text": [
      "[Parallel(n_jobs=-1)]: Using backend LokyBackend with 8 concurrent workers.\n",
      "[Parallel(n_jobs=-1)]: Done  34 tasks      | elapsed:   50.0s\n",
      "[Parallel(n_jobs=-1)]: Done 184 tasks      | elapsed:  6.0min\n",
      "[Parallel(n_jobs=-1)]: Done 216 out of 216 | elapsed:  7.6min finished\n"
     ]
    },
    {
     "data": {
      "text/plain": [
       "GridSearchCV(cv=3, estimator=RandomForestClassifier(), n_jobs=-1,\n",
       "             param_grid={'max_depth': [4, 8, 10], 'max_features': [5, 10],\n",
       "                         'min_samples_leaf': range(100, 400, 200),\n",
       "                         'min_samples_split': range(200, 500, 200),\n",
       "                         'n_estimators': [100, 200, 300]},\n",
       "             verbose=1)"
      ]
     },
     "execution_count": 39,
     "metadata": {},
     "output_type": "execute_result"
    }
   ],
   "source": [
    "# Fit the grid search to the data\n",
    "grid_search.fit(X_train, y_train)"
   ]
  },
  {
   "cell_type": "code",
   "execution_count": 40,
   "metadata": {},
   "outputs": [
    {
     "name": "stdout",
     "output_type": "stream",
     "text": [
      "We can get accuracy of 0.8185238095238095 using {'max_depth': 8, 'max_features': 10, 'min_samples_leaf': 100, 'min_samples_split': 400, 'n_estimators': 100}\n"
     ]
    }
   ],
   "source": [
    "# printing the optimal accuracy score and hyperparameters\n",
    "print('We can get accuracy of',grid_search.best_score_,'using',grid_search.best_params_)"
   ]
  },
  {
   "cell_type": "markdown",
   "metadata": {},
   "source": [
    "**Fitting the final model with the best parameters obtained from grid search.**"
   ]
  },
  {
   "cell_type": "code",
   "execution_count": 41,
   "metadata": {},
   "outputs": [],
   "source": [
    "# model with the best hyperparameters\n",
    "from sklearn.ensemble import RandomForestClassifier\n",
    "rfc = RandomForestClassifier(bootstrap=True,\n",
    "                             max_depth=10,\n",
    "                             min_samples_leaf=100, \n",
    "                             min_samples_split=200,\n",
    "                             max_features=10,\n",
    "                             n_estimators=100)"
   ]
  },
  {
   "cell_type": "code",
   "execution_count": 42,
   "metadata": {},
   "outputs": [
    {
     "data": {
      "text/plain": [
       "RandomForestClassifier(max_depth=10, max_features=10, min_samples_leaf=100,\n",
       "                       min_samples_split=200)"
      ]
     },
     "execution_count": 42,
     "metadata": {},
     "output_type": "execute_result"
    }
   ],
   "source": [
    "# fit\n",
    "rfc.fit(X_train,y_train)"
   ]
  },
  {
   "cell_type": "code",
   "execution_count": 43,
   "metadata": {},
   "outputs": [],
   "source": [
    "# predict\n",
    "predictions = rfc.predict(X_test)"
   ]
  },
  {
   "cell_type": "code",
   "execution_count": 44,
   "metadata": {},
   "outputs": [],
   "source": [
    "# evaluation metrics\n",
    "from sklearn.metrics import classification_report,confusion_matrix"
   ]
  },
  {
   "cell_type": "code",
   "execution_count": 45,
   "metadata": {},
   "outputs": [
    {
     "name": "stdout",
     "output_type": "stream",
     "text": [
      "              precision    recall  f1-score   support\n",
      "\n",
      "           0       0.84      0.96      0.90      7058\n",
      "           1       0.69      0.36      0.47      1942\n",
      "\n",
      "    accuracy                           0.83      9000\n",
      "   macro avg       0.77      0.66      0.68      9000\n",
      "weighted avg       0.81      0.83      0.81      9000\n",
      "\n"
     ]
    }
   ],
   "source": [
    "print(classification_report(y_test,predictions))"
   ]
  },
  {
   "cell_type": "code",
   "execution_count": 46,
   "metadata": {},
   "outputs": [
    {
     "name": "stdout",
     "output_type": "stream",
     "text": [
      "[[6749  309]\n",
      " [1246  696]]\n"
     ]
    }
   ],
   "source": [
    "print(confusion_matrix(y_test,predictions))"
   ]
  },
  {
   "cell_type": "code",
   "execution_count": null,
   "metadata": {},
   "outputs": [],
   "source": []
  },
  {
   "cell_type": "code",
   "execution_count": null,
   "metadata": {},
   "outputs": [],
   "source": []
  }
 ],
 "metadata": {
  "kernelspec": {
   "display_name": "Python 3",
   "language": "python",
   "name": "python3"
  },
  "language_info": {
   "codemirror_mode": {
    "name": "ipython",
    "version": 3
   },
   "file_extension": ".py",
   "mimetype": "text/x-python",
   "name": "python",
   "nbconvert_exporter": "python",
   "pygments_lexer": "ipython3",
   "version": "3.8.2"
  }
 },
 "nbformat": 4,
 "nbformat_minor": 2
}
